{
  "nbformat": 4,
  "nbformat_minor": 0,
  "metadata": {
    "colab": {
      "name": "18MIS1022_VishnuPriyaS.ipynb",
      "provenance": []
    },
    "kernelspec": {
      "name": "python3",
      "display_name": "Python 3"
    },
    "language_info": {
      "name": "python"
    }
  },
  "cells": [
    {
      "cell_type": "code",
      "execution_count": 80,
      "metadata": {
        "id": "I0ybR4JFeUPR"
      },
      "outputs": [],
      "source": [
        "import pandas as pd\n",
        "import numpy as np      "
      ]
    },
    {
      "cell_type": "code",
      "source": [
        "df = pd.read_csv(\"/main.csv\")"
      ],
      "metadata": {
        "id": "iwvtvdNMeijT"
      },
      "execution_count": 81,
      "outputs": []
    },
    {
      "cell_type": "code",
      "source": [
        "df.head()"
      ],
      "metadata": {
        "colab": {
          "base_uri": "https://localhost:8080/",
          "height": 270
        },
        "id": "OdOTXVj-eiwZ",
        "outputId": "c1fef42a-7a58-4bea-9959-2c8a10af2973"
      },
      "execution_count": 82,
      "outputs": [
        {
          "output_type": "execute_result",
          "data": {
            "text/plain": [
              "   product_code product_description product_group  sales_date  price  \\\n",
              "0          1001              tomato     vegetable  2021-11-01   2.99   \n",
              "1          1001              tomato     vegetable  2021-11-02   2.99   \n",
              "2          1001              tomato     vegetable  2021-11-03   2.99   \n",
              "3          1001              tomato     vegetable  2021-11-04   2.99   \n",
              "4          1001              tomato     vegetable  2021-11-05   2.99   \n",
              "\n",
              "   sales_quantity unit  \n",
              "0              36   kg  \n",
              "1              23   kg  \n",
              "2              34   kg  \n",
              "3              23   kg  \n",
              "4              34   kg  "
            ],
            "text/html": [
              "\n",
              "  <div id=\"df-49ccba90-2efc-4ae4-a05f-fa25b1bfef00\">\n",
              "    <div class=\"colab-df-container\">\n",
              "      <div>\n",
              "<style scoped>\n",
              "    .dataframe tbody tr th:only-of-type {\n",
              "        vertical-align: middle;\n",
              "    }\n",
              "\n",
              "    .dataframe tbody tr th {\n",
              "        vertical-align: top;\n",
              "    }\n",
              "\n",
              "    .dataframe thead th {\n",
              "        text-align: right;\n",
              "    }\n",
              "</style>\n",
              "<table border=\"1\" class=\"dataframe\">\n",
              "  <thead>\n",
              "    <tr style=\"text-align: right;\">\n",
              "      <th></th>\n",
              "      <th>product_code</th>\n",
              "      <th>product_description</th>\n",
              "      <th>product_group</th>\n",
              "      <th>sales_date</th>\n",
              "      <th>price</th>\n",
              "      <th>sales_quantity</th>\n",
              "      <th>unit</th>\n",
              "    </tr>\n",
              "  </thead>\n",
              "  <tbody>\n",
              "    <tr>\n",
              "      <th>0</th>\n",
              "      <td>1001</td>\n",
              "      <td>tomato</td>\n",
              "      <td>vegetable</td>\n",
              "      <td>2021-11-01</td>\n",
              "      <td>2.99</td>\n",
              "      <td>36</td>\n",
              "      <td>kg</td>\n",
              "    </tr>\n",
              "    <tr>\n",
              "      <th>1</th>\n",
              "      <td>1001</td>\n",
              "      <td>tomato</td>\n",
              "      <td>vegetable</td>\n",
              "      <td>2021-11-02</td>\n",
              "      <td>2.99</td>\n",
              "      <td>23</td>\n",
              "      <td>kg</td>\n",
              "    </tr>\n",
              "    <tr>\n",
              "      <th>2</th>\n",
              "      <td>1001</td>\n",
              "      <td>tomato</td>\n",
              "      <td>vegetable</td>\n",
              "      <td>2021-11-03</td>\n",
              "      <td>2.99</td>\n",
              "      <td>34</td>\n",
              "      <td>kg</td>\n",
              "    </tr>\n",
              "    <tr>\n",
              "      <th>3</th>\n",
              "      <td>1001</td>\n",
              "      <td>tomato</td>\n",
              "      <td>vegetable</td>\n",
              "      <td>2021-11-04</td>\n",
              "      <td>2.99</td>\n",
              "      <td>23</td>\n",
              "      <td>kg</td>\n",
              "    </tr>\n",
              "    <tr>\n",
              "      <th>4</th>\n",
              "      <td>1001</td>\n",
              "      <td>tomato</td>\n",
              "      <td>vegetable</td>\n",
              "      <td>2021-11-05</td>\n",
              "      <td>2.99</td>\n",
              "      <td>34</td>\n",
              "      <td>kg</td>\n",
              "    </tr>\n",
              "  </tbody>\n",
              "</table>\n",
              "</div>\n",
              "      <button class=\"colab-df-convert\" onclick=\"convertToInteractive('df-49ccba90-2efc-4ae4-a05f-fa25b1bfef00')\"\n",
              "              title=\"Convert this dataframe to an interactive table.\"\n",
              "              style=\"display:none;\">\n",
              "        \n",
              "  <svg xmlns=\"http://www.w3.org/2000/svg\" height=\"24px\"viewBox=\"0 0 24 24\"\n",
              "       width=\"24px\">\n",
              "    <path d=\"M0 0h24v24H0V0z\" fill=\"none\"/>\n",
              "    <path d=\"M18.56 5.44l.94 2.06.94-2.06 2.06-.94-2.06-.94-.94-2.06-.94 2.06-2.06.94zm-11 1L8.5 8.5l.94-2.06 2.06-.94-2.06-.94L8.5 2.5l-.94 2.06-2.06.94zm10 10l.94 2.06.94-2.06 2.06-.94-2.06-.94-.94-2.06-.94 2.06-2.06.94z\"/><path d=\"M17.41 7.96l-1.37-1.37c-.4-.4-.92-.59-1.43-.59-.52 0-1.04.2-1.43.59L10.3 9.45l-7.72 7.72c-.78.78-.78 2.05 0 2.83L4 21.41c.39.39.9.59 1.41.59.51 0 1.02-.2 1.41-.59l7.78-7.78 2.81-2.81c.8-.78.8-2.07 0-2.86zM5.41 20L4 18.59l7.72-7.72 1.47 1.35L5.41 20z\"/>\n",
              "  </svg>\n",
              "      </button>\n",
              "      \n",
              "  <style>\n",
              "    .colab-df-container {\n",
              "      display:flex;\n",
              "      flex-wrap:wrap;\n",
              "      gap: 12px;\n",
              "    }\n",
              "\n",
              "    .colab-df-convert {\n",
              "      background-color: #E8F0FE;\n",
              "      border: none;\n",
              "      border-radius: 50%;\n",
              "      cursor: pointer;\n",
              "      display: none;\n",
              "      fill: #1967D2;\n",
              "      height: 32px;\n",
              "      padding: 0 0 0 0;\n",
              "      width: 32px;\n",
              "    }\n",
              "\n",
              "    .colab-df-convert:hover {\n",
              "      background-color: #E2EBFA;\n",
              "      box-shadow: 0px 1px 2px rgba(60, 64, 67, 0.3), 0px 1px 3px 1px rgba(60, 64, 67, 0.15);\n",
              "      fill: #174EA6;\n",
              "    }\n",
              "\n",
              "    [theme=dark] .colab-df-convert {\n",
              "      background-color: #3B4455;\n",
              "      fill: #D2E3FC;\n",
              "    }\n",
              "\n",
              "    [theme=dark] .colab-df-convert:hover {\n",
              "      background-color: #434B5C;\n",
              "      box-shadow: 0px 1px 3px 1px rgba(0, 0, 0, 0.15);\n",
              "      filter: drop-shadow(0px 1px 2px rgba(0, 0, 0, 0.3));\n",
              "      fill: #FFFFFF;\n",
              "    }\n",
              "  </style>\n",
              "\n",
              "      <script>\n",
              "        const buttonEl =\n",
              "          document.querySelector('#df-49ccba90-2efc-4ae4-a05f-fa25b1bfef00 button.colab-df-convert');\n",
              "        buttonEl.style.display =\n",
              "          google.colab.kernel.accessAllowed ? 'block' : 'none';\n",
              "\n",
              "        async function convertToInteractive(key) {\n",
              "          const element = document.querySelector('#df-49ccba90-2efc-4ae4-a05f-fa25b1bfef00');\n",
              "          const dataTable =\n",
              "            await google.colab.kernel.invokeFunction('convertToInteractive',\n",
              "                                                     [key], {});\n",
              "          if (!dataTable) return;\n",
              "\n",
              "          const docLinkHtml = 'Like what you see? Visit the ' +\n",
              "            '<a target=\"_blank\" href=https://colab.research.google.com/notebooks/data_table.ipynb>data table notebook</a>'\n",
              "            + ' to learn more about interactive tables.';\n",
              "          element.innerHTML = '';\n",
              "          dataTable['output_type'] = 'display_data';\n",
              "          await google.colab.output.renderOutput(dataTable, element);\n",
              "          const docLink = document.createElement('div');\n",
              "          docLink.innerHTML = docLinkHtml;\n",
              "          element.appendChild(docLink);\n",
              "        }\n",
              "      </script>\n",
              "    </div>\n",
              "  </div>\n",
              "  "
            ]
          },
          "metadata": {},
          "execution_count": 82
        }
      ]
    },
    {
      "cell_type": "code",
      "source": [
        "df['price'].isnull().sum()"
      ],
      "metadata": {
        "colab": {
          "base_uri": "https://localhost:8080/"
        },
        "id": "jgM0jZZBeizg",
        "outputId": "0a7e4b85-f308-4664-9914-e55cd8f96ce3"
      },
      "execution_count": 83,
      "outputs": [
        {
          "output_type": "execute_result",
          "data": {
            "text/plain": [
              "16"
            ]
          },
          "metadata": {},
          "execution_count": 83
        }
      ]
    },
    {
      "cell_type": "markdown",
      "source": [
        "There are 16 null values in price column"
      ],
      "metadata": {
        "id": "AF0UnmNXfHdY"
      }
    },
    {
      "cell_type": "code",
      "source": [
        "df['product_description'].unique()"
      ],
      "metadata": {
        "colab": {
          "base_uri": "https://localhost:8080/"
        },
        "id": "QFPf1qqpei23",
        "outputId": "a0257582-856b-49d0-f183-39d8e97555e0"
      },
      "execution_count": 84,
      "outputs": [
        {
          "output_type": "execute_result",
          "data": {
            "text/plain": [
              "array(['tomato', 'cucumber', 'onion', 'plum', 'orange', 'apple', 'grape',\n",
              "       'milk-1.5', 'yogurt-1', 'butter-0.25'], dtype=object)"
            ]
          },
          "metadata": {},
          "execution_count": 84
        }
      ]
    },
    {
      "cell_type": "code",
      "source": [
        "tom= df.loc[df['product_description']=='tomato']\n",
        "tom_avg=tom['price'].mean()\n",
        "tom_avg\n",
        "#avg of tomato"
      ],
      "metadata": {
        "colab": {
          "base_uri": "https://localhost:8080/"
        },
        "id": "bcLtHny2ei65",
        "outputId": "270de1d8-d47f-4d9f-f4a9-ac57f62a3488"
      },
      "execution_count": 85,
      "outputs": [
        {
          "output_type": "execute_result",
          "data": {
            "text/plain": [
              "3.1210344827586214"
            ]
          },
          "metadata": {},
          "execution_count": 85
        }
      ]
    },
    {
      "cell_type": "code",
      "source": [
        "cuc= df.loc[df['product_description']=='cucumber']\n",
        "cuc_avg=cuc['price'].mean()\n",
        "cuc_avg\n",
        "#avg of cucumber"
      ],
      "metadata": {
        "colab": {
          "base_uri": "https://localhost:8080/"
        },
        "id": "6nQmgdMQei9p",
        "outputId": "d25e25f5-93cf-4714-e76f-f8c312bfb1bd"
      },
      "execution_count": 86,
      "outputs": [
        {
          "output_type": "execute_result",
          "data": {
            "text/plain": [
              "4.532857142857142"
            ]
          },
          "metadata": {},
          "execution_count": 86
        }
      ]
    },
    {
      "cell_type": "code",
      "source": [
        "ono= df.loc[df['product_description']=='onion']\n",
        "ono_avg=ono['price'].mean()\n",
        "ono_avg\n",
        "#avg of onion\n"
      ],
      "metadata": {
        "colab": {
          "base_uri": "https://localhost:8080/"
        },
        "id": "Xuf1j_7SejA-",
        "outputId": "1ed57604-8557-4f8e-c96c-89e39fd58afb"
      },
      "execution_count": 87,
      "outputs": [
        {
          "output_type": "execute_result",
          "data": {
            "text/plain": [
              "2.150714285714286"
            ]
          },
          "metadata": {},
          "execution_count": 87
        }
      ]
    },
    {
      "cell_type": "code",
      "source": [
        "plu= df.loc[df['product_description']=='plum']\n",
        "plu_avg=plu['price'].mean()\n",
        "plu_avg\n",
        "#avg of plum\n"
      ],
      "metadata": {
        "colab": {
          "base_uri": "https://localhost:8080/"
        },
        "id": "FNucItPvejES",
        "outputId": "68479b10-0d65-4fee-a685-2ef62ca6cf0a"
      },
      "execution_count": 88,
      "outputs": [
        {
          "output_type": "execute_result",
          "data": {
            "text/plain": [
              "4.3896551724137955"
            ]
          },
          "metadata": {},
          "execution_count": 88
        }
      ]
    },
    {
      "cell_type": "code",
      "source": [
        "orn= df.loc[df['product_description']=='orange']\n",
        "orn_avg=orn['price'].mean()\n",
        "orn_avg\n",
        "#avg of orange\n"
      ],
      "metadata": {
        "colab": {
          "base_uri": "https://localhost:8080/"
        },
        "id": "07XdsFERejHx",
        "outputId": "3cc2e129-b282-4432-a80c-61acc4c9378b"
      },
      "execution_count": 89,
      "outputs": [
        {
          "output_type": "execute_result",
          "data": {
            "text/plain": [
              "2.714285714285715"
            ]
          },
          "metadata": {},
          "execution_count": 89
        }
      ]
    },
    {
      "cell_type": "code",
      "source": [
        "app= df.loc[df['product_description']=='apple']\n",
        "app_avg=app['price'].mean()\n",
        "app_avg\n",
        "#avg of apple"
      ],
      "metadata": {
        "colab": {
          "base_uri": "https://localhost:8080/"
        },
        "id": "1f48gJ1fejL_",
        "outputId": "bbd2cc2b-eb3e-4de4-af69-cc21d194a34f"
      },
      "execution_count": 90,
      "outputs": [
        {
          "output_type": "execute_result",
          "data": {
            "text/plain": [
              "2.077777777777779"
            ]
          },
          "metadata": {},
          "execution_count": 90
        }
      ]
    },
    {
      "cell_type": "code",
      "source": [
        "gra= df.loc[df['product_description']=='grape']\n",
        "gra_avg=gra['price'].mean()\n",
        "gra_avg\n",
        "#avg of grape"
      ],
      "metadata": {
        "colab": {
          "base_uri": "https://localhost:8080/"
        },
        "id": "jI8i5-C8ejPH",
        "outputId": "5189cf93-3266-4ce4-93b3-e81bb9b647b4"
      },
      "execution_count": 91,
      "outputs": [
        {
          "output_type": "execute_result",
          "data": {
            "text/plain": [
              "4.400000000000002"
            ]
          },
          "metadata": {},
          "execution_count": 91
        }
      ]
    },
    {
      "cell_type": "code",
      "source": [
        "mk= df.loc[df['product_description']=='milk-1.5']\n",
        "mk_avg=mk['price'].mean()\n",
        "mk_avg\n",
        "#avg of milk"
      ],
      "metadata": {
        "colab": {
          "base_uri": "https://localhost:8080/"
        },
        "id": "GVSfxHMPejS1",
        "outputId": "06b8ed5a-5405-4547-b700-716ef2b76e25"
      },
      "execution_count": 92,
      "outputs": [
        {
          "output_type": "execute_result",
          "data": {
            "text/plain": [
              "6.078571428571431"
            ]
          },
          "metadata": {},
          "execution_count": 92
        }
      ]
    },
    {
      "cell_type": "code",
      "source": [
        "yg= df.loc[df['product_description']=='yogurt-1']\n",
        "yg_avg=yg['price'].mean()\n",
        "yg_avg\n",
        "#avg of yogurt"
      ],
      "metadata": {
        "colab": {
          "base_uri": "https://localhost:8080/"
        },
        "id": "TQNU3WN-ejXe",
        "outputId": "556a6b86-5870-43ca-b6b9-5c7fb2674dd8"
      },
      "execution_count": 93,
      "outputs": [
        {
          "output_type": "execute_result",
          "data": {
            "text/plain": [
              "6.693103448275866"
            ]
          },
          "metadata": {},
          "execution_count": 93
        }
      ]
    },
    {
      "cell_type": "code",
      "source": [
        "btr= df.loc[df['product_description']=='butter-0.25']\n",
        "btr_avg=btr['price'].mean()\n",
        "btr_avg\n",
        "#avg of butter"
      ],
      "metadata": {
        "colab": {
          "base_uri": "https://localhost:8080/"
        },
        "id": "JS4oKDmwjt3y",
        "outputId": "acec4168-d4c6-4455-9e9d-af991ea310e2"
      },
      "execution_count": 94,
      "outputs": [
        {
          "output_type": "execute_result",
          "data": {
            "text/plain": [
              "11.4"
            ]
          },
          "metadata": {},
          "execution_count": 94
        }
      ]
    },
    {
      "cell_type": "code",
      "source": [
        "nan_values = df[df['price'].isna()]\n",
        "nan_values.head()"
      ],
      "metadata": {
        "colab": {
          "base_uri": "https://localhost:8080/",
          "height": 270
        },
        "id": "dAY90oNajxwO",
        "outputId": "4295a834-0d0e-4a25-ff28-63c016b79b57"
      },
      "execution_count": 95,
      "outputs": [
        {
          "output_type": "execute_result",
          "data": {
            "text/plain": [
              "    product_code product_description product_group  sales_date  price  \\\n",
              "10          1001              tomato     vegetable  2021-11-11    NaN   \n",
              "34          1002            cucumber     vegetable  2021-11-05    NaN   \n",
              "37          1002            cucumber     vegetable  2021-11-08    NaN   \n",
              "73          1003               onion     vegetable  2021-11-14    NaN   \n",
              "74          1003               onion     vegetable  2021-11-15    NaN   \n",
              "\n",
              "    sales_quantity unit  \n",
              "10              20   kg  \n",
              "34              24   kg  \n",
              "37              38   kg  \n",
              "73              39   kg  \n",
              "74              25   kg  "
            ],
            "text/html": [
              "\n",
              "  <div id=\"df-116e347f-8d2b-4fb2-a502-d846c0dcfeb9\">\n",
              "    <div class=\"colab-df-container\">\n",
              "      <div>\n",
              "<style scoped>\n",
              "    .dataframe tbody tr th:only-of-type {\n",
              "        vertical-align: middle;\n",
              "    }\n",
              "\n",
              "    .dataframe tbody tr th {\n",
              "        vertical-align: top;\n",
              "    }\n",
              "\n",
              "    .dataframe thead th {\n",
              "        text-align: right;\n",
              "    }\n",
              "</style>\n",
              "<table border=\"1\" class=\"dataframe\">\n",
              "  <thead>\n",
              "    <tr style=\"text-align: right;\">\n",
              "      <th></th>\n",
              "      <th>product_code</th>\n",
              "      <th>product_description</th>\n",
              "      <th>product_group</th>\n",
              "      <th>sales_date</th>\n",
              "      <th>price</th>\n",
              "      <th>sales_quantity</th>\n",
              "      <th>unit</th>\n",
              "    </tr>\n",
              "  </thead>\n",
              "  <tbody>\n",
              "    <tr>\n",
              "      <th>10</th>\n",
              "      <td>1001</td>\n",
              "      <td>tomato</td>\n",
              "      <td>vegetable</td>\n",
              "      <td>2021-11-11</td>\n",
              "      <td>NaN</td>\n",
              "      <td>20</td>\n",
              "      <td>kg</td>\n",
              "    </tr>\n",
              "    <tr>\n",
              "      <th>34</th>\n",
              "      <td>1002</td>\n",
              "      <td>cucumber</td>\n",
              "      <td>vegetable</td>\n",
              "      <td>2021-11-05</td>\n",
              "      <td>NaN</td>\n",
              "      <td>24</td>\n",
              "      <td>kg</td>\n",
              "    </tr>\n",
              "    <tr>\n",
              "      <th>37</th>\n",
              "      <td>1002</td>\n",
              "      <td>cucumber</td>\n",
              "      <td>vegetable</td>\n",
              "      <td>2021-11-08</td>\n",
              "      <td>NaN</td>\n",
              "      <td>38</td>\n",
              "      <td>kg</td>\n",
              "    </tr>\n",
              "    <tr>\n",
              "      <th>73</th>\n",
              "      <td>1003</td>\n",
              "      <td>onion</td>\n",
              "      <td>vegetable</td>\n",
              "      <td>2021-11-14</td>\n",
              "      <td>NaN</td>\n",
              "      <td>39</td>\n",
              "      <td>kg</td>\n",
              "    </tr>\n",
              "    <tr>\n",
              "      <th>74</th>\n",
              "      <td>1003</td>\n",
              "      <td>onion</td>\n",
              "      <td>vegetable</td>\n",
              "      <td>2021-11-15</td>\n",
              "      <td>NaN</td>\n",
              "      <td>25</td>\n",
              "      <td>kg</td>\n",
              "    </tr>\n",
              "  </tbody>\n",
              "</table>\n",
              "</div>\n",
              "      <button class=\"colab-df-convert\" onclick=\"convertToInteractive('df-116e347f-8d2b-4fb2-a502-d846c0dcfeb9')\"\n",
              "              title=\"Convert this dataframe to an interactive table.\"\n",
              "              style=\"display:none;\">\n",
              "        \n",
              "  <svg xmlns=\"http://www.w3.org/2000/svg\" height=\"24px\"viewBox=\"0 0 24 24\"\n",
              "       width=\"24px\">\n",
              "    <path d=\"M0 0h24v24H0V0z\" fill=\"none\"/>\n",
              "    <path d=\"M18.56 5.44l.94 2.06.94-2.06 2.06-.94-2.06-.94-.94-2.06-.94 2.06-2.06.94zm-11 1L8.5 8.5l.94-2.06 2.06-.94-2.06-.94L8.5 2.5l-.94 2.06-2.06.94zm10 10l.94 2.06.94-2.06 2.06-.94-2.06-.94-.94-2.06-.94 2.06-2.06.94z\"/><path d=\"M17.41 7.96l-1.37-1.37c-.4-.4-.92-.59-1.43-.59-.52 0-1.04.2-1.43.59L10.3 9.45l-7.72 7.72c-.78.78-.78 2.05 0 2.83L4 21.41c.39.39.9.59 1.41.59.51 0 1.02-.2 1.41-.59l7.78-7.78 2.81-2.81c.8-.78.8-2.07 0-2.86zM5.41 20L4 18.59l7.72-7.72 1.47 1.35L5.41 20z\"/>\n",
              "  </svg>\n",
              "      </button>\n",
              "      \n",
              "  <style>\n",
              "    .colab-df-container {\n",
              "      display:flex;\n",
              "      flex-wrap:wrap;\n",
              "      gap: 12px;\n",
              "    }\n",
              "\n",
              "    .colab-df-convert {\n",
              "      background-color: #E8F0FE;\n",
              "      border: none;\n",
              "      border-radius: 50%;\n",
              "      cursor: pointer;\n",
              "      display: none;\n",
              "      fill: #1967D2;\n",
              "      height: 32px;\n",
              "      padding: 0 0 0 0;\n",
              "      width: 32px;\n",
              "    }\n",
              "\n",
              "    .colab-df-convert:hover {\n",
              "      background-color: #E2EBFA;\n",
              "      box-shadow: 0px 1px 2px rgba(60, 64, 67, 0.3), 0px 1px 3px 1px rgba(60, 64, 67, 0.15);\n",
              "      fill: #174EA6;\n",
              "    }\n",
              "\n",
              "    [theme=dark] .colab-df-convert {\n",
              "      background-color: #3B4455;\n",
              "      fill: #D2E3FC;\n",
              "    }\n",
              "\n",
              "    [theme=dark] .colab-df-convert:hover {\n",
              "      background-color: #434B5C;\n",
              "      box-shadow: 0px 1px 3px 1px rgba(0, 0, 0, 0.15);\n",
              "      filter: drop-shadow(0px 1px 2px rgba(0, 0, 0, 0.3));\n",
              "      fill: #FFFFFF;\n",
              "    }\n",
              "  </style>\n",
              "\n",
              "      <script>\n",
              "        const buttonEl =\n",
              "          document.querySelector('#df-116e347f-8d2b-4fb2-a502-d846c0dcfeb9 button.colab-df-convert');\n",
              "        buttonEl.style.display =\n",
              "          google.colab.kernel.accessAllowed ? 'block' : 'none';\n",
              "\n",
              "        async function convertToInteractive(key) {\n",
              "          const element = document.querySelector('#df-116e347f-8d2b-4fb2-a502-d846c0dcfeb9');\n",
              "          const dataTable =\n",
              "            await google.colab.kernel.invokeFunction('convertToInteractive',\n",
              "                                                     [key], {});\n",
              "          if (!dataTable) return;\n",
              "\n",
              "          const docLinkHtml = 'Like what you see? Visit the ' +\n",
              "            '<a target=\"_blank\" href=https://colab.research.google.com/notebooks/data_table.ipynb>data table notebook</a>'\n",
              "            + ' to learn more about interactive tables.';\n",
              "          element.innerHTML = '';\n",
              "          dataTable['output_type'] = 'display_data';\n",
              "          await google.colab.output.renderOutput(dataTable, element);\n",
              "          const docLink = document.createElement('div');\n",
              "          docLink.innerHTML = docLinkHtml;\n",
              "          element.appendChild(docLink);\n",
              "        }\n",
              "      </script>\n",
              "    </div>\n",
              "  </div>\n",
              "  "
            ]
          },
          "metadata": {},
          "execution_count": 95
        }
      ]
    },
    {
      "cell_type": "code",
      "source": [
        "nan_values['price_new'] = nan_values.loc[:, 'price']\n",
        "nan_values.head()"
      ],
      "metadata": {
        "colab": {
          "base_uri": "https://localhost:8080/",
          "height": 374
        },
        "id": "Xv0Tvvj8jxgQ",
        "outputId": "9bcbac5c-0900-444a-efbd-c7bdd909f6b2"
      },
      "execution_count": 96,
      "outputs": [
        {
          "output_type": "stream",
          "name": "stderr",
          "text": [
            "/usr/local/lib/python3.7/dist-packages/ipykernel_launcher.py:1: SettingWithCopyWarning: \n",
            "A value is trying to be set on a copy of a slice from a DataFrame.\n",
            "Try using .loc[row_indexer,col_indexer] = value instead\n",
            "\n",
            "See the caveats in the documentation: https://pandas.pydata.org/pandas-docs/stable/user_guide/indexing.html#returning-a-view-versus-a-copy\n",
            "  \"\"\"Entry point for launching an IPython kernel.\n"
          ]
        },
        {
          "output_type": "execute_result",
          "data": {
            "text/plain": [
              "    product_code product_description product_group  sales_date  price  \\\n",
              "10          1001              tomato     vegetable  2021-11-11    NaN   \n",
              "34          1002            cucumber     vegetable  2021-11-05    NaN   \n",
              "37          1002            cucumber     vegetable  2021-11-08    NaN   \n",
              "73          1003               onion     vegetable  2021-11-14    NaN   \n",
              "74          1003               onion     vegetable  2021-11-15    NaN   \n",
              "\n",
              "    sales_quantity unit  price_new  \n",
              "10              20   kg        NaN  \n",
              "34              24   kg        NaN  \n",
              "37              38   kg        NaN  \n",
              "73              39   kg        NaN  \n",
              "74              25   kg        NaN  "
            ],
            "text/html": [
              "\n",
              "  <div id=\"df-83914a70-c226-43a9-a826-27d6f910fd8a\">\n",
              "    <div class=\"colab-df-container\">\n",
              "      <div>\n",
              "<style scoped>\n",
              "    .dataframe tbody tr th:only-of-type {\n",
              "        vertical-align: middle;\n",
              "    }\n",
              "\n",
              "    .dataframe tbody tr th {\n",
              "        vertical-align: top;\n",
              "    }\n",
              "\n",
              "    .dataframe thead th {\n",
              "        text-align: right;\n",
              "    }\n",
              "</style>\n",
              "<table border=\"1\" class=\"dataframe\">\n",
              "  <thead>\n",
              "    <tr style=\"text-align: right;\">\n",
              "      <th></th>\n",
              "      <th>product_code</th>\n",
              "      <th>product_description</th>\n",
              "      <th>product_group</th>\n",
              "      <th>sales_date</th>\n",
              "      <th>price</th>\n",
              "      <th>sales_quantity</th>\n",
              "      <th>unit</th>\n",
              "      <th>price_new</th>\n",
              "    </tr>\n",
              "  </thead>\n",
              "  <tbody>\n",
              "    <tr>\n",
              "      <th>10</th>\n",
              "      <td>1001</td>\n",
              "      <td>tomato</td>\n",
              "      <td>vegetable</td>\n",
              "      <td>2021-11-11</td>\n",
              "      <td>NaN</td>\n",
              "      <td>20</td>\n",
              "      <td>kg</td>\n",
              "      <td>NaN</td>\n",
              "    </tr>\n",
              "    <tr>\n",
              "      <th>34</th>\n",
              "      <td>1002</td>\n",
              "      <td>cucumber</td>\n",
              "      <td>vegetable</td>\n",
              "      <td>2021-11-05</td>\n",
              "      <td>NaN</td>\n",
              "      <td>24</td>\n",
              "      <td>kg</td>\n",
              "      <td>NaN</td>\n",
              "    </tr>\n",
              "    <tr>\n",
              "      <th>37</th>\n",
              "      <td>1002</td>\n",
              "      <td>cucumber</td>\n",
              "      <td>vegetable</td>\n",
              "      <td>2021-11-08</td>\n",
              "      <td>NaN</td>\n",
              "      <td>38</td>\n",
              "      <td>kg</td>\n",
              "      <td>NaN</td>\n",
              "    </tr>\n",
              "    <tr>\n",
              "      <th>73</th>\n",
              "      <td>1003</td>\n",
              "      <td>onion</td>\n",
              "      <td>vegetable</td>\n",
              "      <td>2021-11-14</td>\n",
              "      <td>NaN</td>\n",
              "      <td>39</td>\n",
              "      <td>kg</td>\n",
              "      <td>NaN</td>\n",
              "    </tr>\n",
              "    <tr>\n",
              "      <th>74</th>\n",
              "      <td>1003</td>\n",
              "      <td>onion</td>\n",
              "      <td>vegetable</td>\n",
              "      <td>2021-11-15</td>\n",
              "      <td>NaN</td>\n",
              "      <td>25</td>\n",
              "      <td>kg</td>\n",
              "      <td>NaN</td>\n",
              "    </tr>\n",
              "  </tbody>\n",
              "</table>\n",
              "</div>\n",
              "      <button class=\"colab-df-convert\" onclick=\"convertToInteractive('df-83914a70-c226-43a9-a826-27d6f910fd8a')\"\n",
              "              title=\"Convert this dataframe to an interactive table.\"\n",
              "              style=\"display:none;\">\n",
              "        \n",
              "  <svg xmlns=\"http://www.w3.org/2000/svg\" height=\"24px\"viewBox=\"0 0 24 24\"\n",
              "       width=\"24px\">\n",
              "    <path d=\"M0 0h24v24H0V0z\" fill=\"none\"/>\n",
              "    <path d=\"M18.56 5.44l.94 2.06.94-2.06 2.06-.94-2.06-.94-.94-2.06-.94 2.06-2.06.94zm-11 1L8.5 8.5l.94-2.06 2.06-.94-2.06-.94L8.5 2.5l-.94 2.06-2.06.94zm10 10l.94 2.06.94-2.06 2.06-.94-2.06-.94-.94-2.06-.94 2.06-2.06.94z\"/><path d=\"M17.41 7.96l-1.37-1.37c-.4-.4-.92-.59-1.43-.59-.52 0-1.04.2-1.43.59L10.3 9.45l-7.72 7.72c-.78.78-.78 2.05 0 2.83L4 21.41c.39.39.9.59 1.41.59.51 0 1.02-.2 1.41-.59l7.78-7.78 2.81-2.81c.8-.78.8-2.07 0-2.86zM5.41 20L4 18.59l7.72-7.72 1.47 1.35L5.41 20z\"/>\n",
              "  </svg>\n",
              "      </button>\n",
              "      \n",
              "  <style>\n",
              "    .colab-df-container {\n",
              "      display:flex;\n",
              "      flex-wrap:wrap;\n",
              "      gap: 12px;\n",
              "    }\n",
              "\n",
              "    .colab-df-convert {\n",
              "      background-color: #E8F0FE;\n",
              "      border: none;\n",
              "      border-radius: 50%;\n",
              "      cursor: pointer;\n",
              "      display: none;\n",
              "      fill: #1967D2;\n",
              "      height: 32px;\n",
              "      padding: 0 0 0 0;\n",
              "      width: 32px;\n",
              "    }\n",
              "\n",
              "    .colab-df-convert:hover {\n",
              "      background-color: #E2EBFA;\n",
              "      box-shadow: 0px 1px 2px rgba(60, 64, 67, 0.3), 0px 1px 3px 1px rgba(60, 64, 67, 0.15);\n",
              "      fill: #174EA6;\n",
              "    }\n",
              "\n",
              "    [theme=dark] .colab-df-convert {\n",
              "      background-color: #3B4455;\n",
              "      fill: #D2E3FC;\n",
              "    }\n",
              "\n",
              "    [theme=dark] .colab-df-convert:hover {\n",
              "      background-color: #434B5C;\n",
              "      box-shadow: 0px 1px 3px 1px rgba(0, 0, 0, 0.15);\n",
              "      filter: drop-shadow(0px 1px 2px rgba(0, 0, 0, 0.3));\n",
              "      fill: #FFFFFF;\n",
              "    }\n",
              "  </style>\n",
              "\n",
              "      <script>\n",
              "        const buttonEl =\n",
              "          document.querySelector('#df-83914a70-c226-43a9-a826-27d6f910fd8a button.colab-df-convert');\n",
              "        buttonEl.style.display =\n",
              "          google.colab.kernel.accessAllowed ? 'block' : 'none';\n",
              "\n",
              "        async function convertToInteractive(key) {\n",
              "          const element = document.querySelector('#df-83914a70-c226-43a9-a826-27d6f910fd8a');\n",
              "          const dataTable =\n",
              "            await google.colab.kernel.invokeFunction('convertToInteractive',\n",
              "                                                     [key], {});\n",
              "          if (!dataTable) return;\n",
              "\n",
              "          const docLinkHtml = 'Like what you see? Visit the ' +\n",
              "            '<a target=\"_blank\" href=https://colab.research.google.com/notebooks/data_table.ipynb>data table notebook</a>'\n",
              "            + ' to learn more about interactive tables.';\n",
              "          element.innerHTML = '';\n",
              "          dataTable['output_type'] = 'display_data';\n",
              "          await google.colab.output.renderOutput(dataTable, element);\n",
              "          const docLink = document.createElement('div');\n",
              "          docLink.innerHTML = docLinkHtml;\n",
              "          element.appendChild(docLink);\n",
              "        }\n",
              "      </script>\n",
              "    </div>\n",
              "  </div>\n",
              "  "
            ]
          },
          "metadata": {},
          "execution_count": 96
        }
      ]
    },
    {
      "cell_type": "code",
      "source": [
        "nan_values.loc[10,'price_new'] = tom_avg\n",
        "nan_values.loc[34,'price_new'] = cuc_avg\n",
        "nan_values.loc[37,'price_new'] = cuc_avg\n",
        "nan_values.loc[73,'price_new'] = ono_avg\n",
        "nan_values.loc[74,'price_new'] = ono_avg"
      ],
      "metadata": {
        "id": "cdXZyvoQjxVX"
      },
      "execution_count": 99,
      "outputs": []
    },
    {
      "cell_type": "code",
      "source": [
        "nan_values.head()"
      ],
      "metadata": {
        "colab": {
          "base_uri": "https://localhost:8080/",
          "height": 270
        },
        "id": "rEj23audjxO-",
        "outputId": "52d77ad1-8e21-4ec7-80d3-2ecd1471252a"
      },
      "execution_count": 102,
      "outputs": [
        {
          "output_type": "execute_result",
          "data": {
            "text/plain": [
              "    product_code product_description product_group  sales_date  price  \\\n",
              "10        1001.0              tomato     vegetable  2021-11-11    NaN   \n",
              "34        1002.0            cucumber     vegetable  2021-11-05    NaN   \n",
              "37        1002.0            cucumber     vegetable  2021-11-08    NaN   \n",
              "73        1003.0               onion     vegetable  2021-11-14    NaN   \n",
              "74        1003.0               onion     vegetable  2021-11-15    NaN   \n",
              "\n",
              "    sales_quantity unit  price_new  \n",
              "10            20.0   kg   3.121034  \n",
              "34            24.0   kg   4.532857  \n",
              "37            38.0   kg   4.532857  \n",
              "73            39.0   kg   2.150714  \n",
              "74            25.0   kg   2.150714  "
            ],
            "text/html": [
              "\n",
              "  <div id=\"df-94abbf5a-2ab5-49bd-ba43-7d60ffd8f386\">\n",
              "    <div class=\"colab-df-container\">\n",
              "      <div>\n",
              "<style scoped>\n",
              "    .dataframe tbody tr th:only-of-type {\n",
              "        vertical-align: middle;\n",
              "    }\n",
              "\n",
              "    .dataframe tbody tr th {\n",
              "        vertical-align: top;\n",
              "    }\n",
              "\n",
              "    .dataframe thead th {\n",
              "        text-align: right;\n",
              "    }\n",
              "</style>\n",
              "<table border=\"1\" class=\"dataframe\">\n",
              "  <thead>\n",
              "    <tr style=\"text-align: right;\">\n",
              "      <th></th>\n",
              "      <th>product_code</th>\n",
              "      <th>product_description</th>\n",
              "      <th>product_group</th>\n",
              "      <th>sales_date</th>\n",
              "      <th>price</th>\n",
              "      <th>sales_quantity</th>\n",
              "      <th>unit</th>\n",
              "      <th>price_new</th>\n",
              "    </tr>\n",
              "  </thead>\n",
              "  <tbody>\n",
              "    <tr>\n",
              "      <th>10</th>\n",
              "      <td>1001.0</td>\n",
              "      <td>tomato</td>\n",
              "      <td>vegetable</td>\n",
              "      <td>2021-11-11</td>\n",
              "      <td>NaN</td>\n",
              "      <td>20.0</td>\n",
              "      <td>kg</td>\n",
              "      <td>3.121034</td>\n",
              "    </tr>\n",
              "    <tr>\n",
              "      <th>34</th>\n",
              "      <td>1002.0</td>\n",
              "      <td>cucumber</td>\n",
              "      <td>vegetable</td>\n",
              "      <td>2021-11-05</td>\n",
              "      <td>NaN</td>\n",
              "      <td>24.0</td>\n",
              "      <td>kg</td>\n",
              "      <td>4.532857</td>\n",
              "    </tr>\n",
              "    <tr>\n",
              "      <th>37</th>\n",
              "      <td>1002.0</td>\n",
              "      <td>cucumber</td>\n",
              "      <td>vegetable</td>\n",
              "      <td>2021-11-08</td>\n",
              "      <td>NaN</td>\n",
              "      <td>38.0</td>\n",
              "      <td>kg</td>\n",
              "      <td>4.532857</td>\n",
              "    </tr>\n",
              "    <tr>\n",
              "      <th>73</th>\n",
              "      <td>1003.0</td>\n",
              "      <td>onion</td>\n",
              "      <td>vegetable</td>\n",
              "      <td>2021-11-14</td>\n",
              "      <td>NaN</td>\n",
              "      <td>39.0</td>\n",
              "      <td>kg</td>\n",
              "      <td>2.150714</td>\n",
              "    </tr>\n",
              "    <tr>\n",
              "      <th>74</th>\n",
              "      <td>1003.0</td>\n",
              "      <td>onion</td>\n",
              "      <td>vegetable</td>\n",
              "      <td>2021-11-15</td>\n",
              "      <td>NaN</td>\n",
              "      <td>25.0</td>\n",
              "      <td>kg</td>\n",
              "      <td>2.150714</td>\n",
              "    </tr>\n",
              "  </tbody>\n",
              "</table>\n",
              "</div>\n",
              "      <button class=\"colab-df-convert\" onclick=\"convertToInteractive('df-94abbf5a-2ab5-49bd-ba43-7d60ffd8f386')\"\n",
              "              title=\"Convert this dataframe to an interactive table.\"\n",
              "              style=\"display:none;\">\n",
              "        \n",
              "  <svg xmlns=\"http://www.w3.org/2000/svg\" height=\"24px\"viewBox=\"0 0 24 24\"\n",
              "       width=\"24px\">\n",
              "    <path d=\"M0 0h24v24H0V0z\" fill=\"none\"/>\n",
              "    <path d=\"M18.56 5.44l.94 2.06.94-2.06 2.06-.94-2.06-.94-.94-2.06-.94 2.06-2.06.94zm-11 1L8.5 8.5l.94-2.06 2.06-.94-2.06-.94L8.5 2.5l-.94 2.06-2.06.94zm10 10l.94 2.06.94-2.06 2.06-.94-2.06-.94-.94-2.06-.94 2.06-2.06.94z\"/><path d=\"M17.41 7.96l-1.37-1.37c-.4-.4-.92-.59-1.43-.59-.52 0-1.04.2-1.43.59L10.3 9.45l-7.72 7.72c-.78.78-.78 2.05 0 2.83L4 21.41c.39.39.9.59 1.41.59.51 0 1.02-.2 1.41-.59l7.78-7.78 2.81-2.81c.8-.78.8-2.07 0-2.86zM5.41 20L4 18.59l7.72-7.72 1.47 1.35L5.41 20z\"/>\n",
              "  </svg>\n",
              "      </button>\n",
              "      \n",
              "  <style>\n",
              "    .colab-df-container {\n",
              "      display:flex;\n",
              "      flex-wrap:wrap;\n",
              "      gap: 12px;\n",
              "    }\n",
              "\n",
              "    .colab-df-convert {\n",
              "      background-color: #E8F0FE;\n",
              "      border: none;\n",
              "      border-radius: 50%;\n",
              "      cursor: pointer;\n",
              "      display: none;\n",
              "      fill: #1967D2;\n",
              "      height: 32px;\n",
              "      padding: 0 0 0 0;\n",
              "      width: 32px;\n",
              "    }\n",
              "\n",
              "    .colab-df-convert:hover {\n",
              "      background-color: #E2EBFA;\n",
              "      box-shadow: 0px 1px 2px rgba(60, 64, 67, 0.3), 0px 1px 3px 1px rgba(60, 64, 67, 0.15);\n",
              "      fill: #174EA6;\n",
              "    }\n",
              "\n",
              "    [theme=dark] .colab-df-convert {\n",
              "      background-color: #3B4455;\n",
              "      fill: #D2E3FC;\n",
              "    }\n",
              "\n",
              "    [theme=dark] .colab-df-convert:hover {\n",
              "      background-color: #434B5C;\n",
              "      box-shadow: 0px 1px 3px 1px rgba(0, 0, 0, 0.15);\n",
              "      filter: drop-shadow(0px 1px 2px rgba(0, 0, 0, 0.3));\n",
              "      fill: #FFFFFF;\n",
              "    }\n",
              "  </style>\n",
              "\n",
              "      <script>\n",
              "        const buttonEl =\n",
              "          document.querySelector('#df-94abbf5a-2ab5-49bd-ba43-7d60ffd8f386 button.colab-df-convert');\n",
              "        buttonEl.style.display =\n",
              "          google.colab.kernel.accessAllowed ? 'block' : 'none';\n",
              "\n",
              "        async function convertToInteractive(key) {\n",
              "          const element = document.querySelector('#df-94abbf5a-2ab5-49bd-ba43-7d60ffd8f386');\n",
              "          const dataTable =\n",
              "            await google.colab.kernel.invokeFunction('convertToInteractive',\n",
              "                                                     [key], {});\n",
              "          if (!dataTable) return;\n",
              "\n",
              "          const docLinkHtml = 'Like what you see? Visit the ' +\n",
              "            '<a target=\"_blank\" href=https://colab.research.google.com/notebooks/data_table.ipynb>data table notebook</a>'\n",
              "            + ' to learn more about interactive tables.';\n",
              "          element.innerHTML = '';\n",
              "          dataTable['output_type'] = 'display_data';\n",
              "          await google.colab.output.renderOutput(dataTable, element);\n",
              "          const docLink = document.createElement('div');\n",
              "          docLink.innerHTML = docLinkHtml;\n",
              "          element.appendChild(docLink);\n",
              "        }\n",
              "      </script>\n",
              "    </div>\n",
              "  </div>\n",
              "  "
            ]
          },
          "metadata": {},
          "execution_count": 102
        }
      ]
    },
    {
      "cell_type": "code",
      "source": [
        "op=nan_values.head()"
      ],
      "metadata": {
        "id": "0hfE5rd-wfQQ"
      },
      "execution_count": 103,
      "outputs": []
    },
    {
      "cell_type": "code",
      "source": [
        "op.to_csv('output_question1.csv')"
      ],
      "metadata": {
        "id": "Agp7cqTnwzJm"
      },
      "execution_count": 105,
      "outputs": []
    }
  ]
}